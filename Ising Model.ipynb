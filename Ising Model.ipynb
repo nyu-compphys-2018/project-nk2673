{
 "cells": [
  {
   "cell_type": "markdown",
   "metadata": {},
   "source": [
    "# Ising Model"
   ]
  },
  {
   "cell_type": "code",
   "execution_count": 8,
   "metadata": {},
   "outputs": [],
   "source": [
    "import numpy as np\n",
    "from matplotlib import pyplot as plt\n",
    "import matplotlib.animation as animation\n",
    "%matplotlib tk         #use this for a new window popup when plotting\n",
    "\n",
    "np.random.seed(35)"
   ]
  },
  {
   "cell_type": "markdown",
   "metadata": {},
   "source": [
    "## Simple Ising model"
   ]
  },
  {
   "cell_type": "code",
   "execution_count": 2,
   "metadata": {
    "scrolled": true
   },
   "outputs": [],
   "source": [
    "def initialstate(N):   \n",
    "    state = np.random.randint(2, size=(N,N))*2-1\n",
    "    return state\n",
    "\n",
    "def mcmove(config, beta,J): #our baseline algorithm (we will expand on this algorithm)\n",
    "    for i in range(len(config)):\n",
    "        for j in range(len(config)):\n",
    "            a = np.random.randint(0, len(config))\n",
    "            b = np.random.randint(0, len(config))\n",
    "            spin = config[a,b]\n",
    "            nb = config[(a+1)%N,b] + config[a,(b+1)%N] + config[(a-1)%N,b] + config[a,(b-1)%N]            \n",
    "            emn = J*spin*nb\n",
    "            if emn < 0:\n",
    "                config[a,b] = -config[a,b]\n",
    "            else:\n",
    "                p = np.exp(-emn*beta)\n",
    "                u = np.random.rand()\n",
    "                if u < p:\n",
    "                    config[a,b] = -config[a,b]\n",
    "    return config\n",
    "\n",
    "def get_Energy(config,J):\n",
    "    energy = 0\n",
    "    for i in range(len(config)):\n",
    "        for j in range(len(config)):\n",
    "            s = config[i,j]\n",
    "            nb = config[(i+1)%N, j] + config[i,(j+1)%N] + config[(i-1)%N, j] + config[i,(j-1)%N]            \n",
    "            energy += -nb*s*J\n",
    "    return energy\n",
    "\n",
    "def get_Mag(config):\n",
    "    mag = np.sum(config)\n",
    "    return mag"
   ]
  },
  {
   "cell_type": "markdown",
   "metadata": {},
   "source": [
    "### Let's look at the behaviors of the lattice simulation as we change the temperature and also the coupling interaction energy"
   ]
  },
  {
   "cell_type": "markdown",
   "metadata": {},
   "source": [
    "Let's first start with temperature less than Curie temperature."
   ]
  },
  {
   "cell_type": "code",
   "execution_count": null,
   "metadata": {},
   "outputs": [],
   "source": [
    "### Let's check if the code above works or not...\n",
    "N = 50                  #grid size\n",
    "iterations = 1000          #number of mcmc move\n",
    "temp = 0.001                   #Temperature in Kelvins --- super low temperature\n",
    "\n",
    "grid = initialstate(N)       #initialize lattice spins\n",
    "\n",
    "plt.figure(figsize = (7,7)) \n",
    "plt.imshow(grid)\n",
    "plt.title('Initial Conditions')\n",
    "\n",
    "for i in range(iterations):   #MCMC move\n",
    "    grid = mcmove(grid,1./temp,2) #config, beta, J\n",
    "    \n",
    "plt.figure(figsize = (7,7))\n",
    "plt.imshow(grid)\n",
    "plt.title('After '+ str(iterations*iterations*iterations) + ' Iterations')"
   ]
  },
  {
   "cell_type": "markdown",
   "metadata": {},
   "source": [
    "Then, temperature greater than curie"
   ]
  },
  {
   "cell_type": "code",
   "execution_count": 10,
   "metadata": {
    "scrolled": true
   },
   "outputs": [
    {
     "data": {
      "text/plain": [
       "Text(0.5,1,'After 1000000000 Iterations')"
      ]
     },
     "execution_count": 10,
     "metadata": {},
     "output_type": "execute_result"
    }
   ],
   "source": [
    "temp = 5                  #Temperature in Kelvins  #high temperature T >> curie temp\n",
    "\n",
    "grid = initialstate(N)       #initialize lattice spins\n",
    "\n",
    "plt.figure(figsize = (7,7)) \n",
    "plt.imshow(grid)\n",
    "plt.title('Initial Conditions')\n",
    "\n",
    "for i in range(iterations):   #MCMC move\n",
    "    grid = mcmove(grid,1./temp,2) #config, beta, J\n",
    "    \n",
    "plt.figure(figsize = (7,7))\n",
    "plt.imshow(grid)\n",
    "plt.title('After '+ str(iterations*iterations*iterations) + ' Iterations')"
   ]
  },
  {
   "cell_type": "markdown",
   "metadata": {},
   "source": [
    "Antiferromagnet J < 0"
   ]
  },
  {
   "cell_type": "code",
   "execution_count": 11,
   "metadata": {
    "scrolled": true
   },
   "outputs": [
    {
     "data": {
      "text/plain": [
       "Text(0.5,1,'After 1000000000 Iterations')"
      ]
     },
     "execution_count": 11,
     "metadata": {},
     "output_type": "execute_result"
    }
   ],
   "source": [
    "temp = 0.005                  #Temperature in Kelvins\n",
    "\n",
    "grid = initialstate(N)       #initialize lattice spins\n",
    "\n",
    "plt.figure(figsize = (7,7)) \n",
    "plt.imshow(grid)\n",
    "plt.title('Initial Conditions')\n",
    "\n",
    "for i in range(iterations):   #MCMC move\n",
    "    grid = mcmove(grid,1./temp,-2) #config, beta, J (antiferromagnet)\n",
    "    \n",
    "plt.figure(figsize = (7,7))\n",
    "plt.imshow(grid)\n",
    "plt.title('After '+ str(iterations*iterations*iterations) + ' Iterations')"
   ]
  },
  {
   "cell_type": "code",
   "execution_count": 13,
   "metadata": {},
   "outputs": [
    {
     "data": {
      "text/plain": [
       "Text(0.5,1,'After 1000000000 Iterations')"
      ]
     },
     "execution_count": 13,
     "metadata": {},
     "output_type": "execute_result"
    }
   ],
   "source": [
    "temp = 3              #Temperature in Kelvins\n",
    "\n",
    "grid = initialstate(N)       #initialize lattice spins\n",
    "\n",
    "plt.figure(figsize = (7,7)) \n",
    "plt.imshow(grid)\n",
    "plt.title('Initial Conditions')\n",
    "\n",
    "for i in range(iterations):   #MCMC move\n",
    "    grid = mcmove(grid,1./temp,-2) #config, beta, J (antiferromagnet)\n",
    "    \n",
    "plt.figure(figsize = (7,7))\n",
    "plt.imshow(grid)\n",
    "plt.title('After '+ str(iterations*iterations*iterations) + ' Iterations')"
   ]
  },
  {
   "cell_type": "markdown",
   "metadata": {},
   "source": [
    "### Moving on the see the observable quantities: energy, magnetization, specific heat, and suspectibility"
   ]
  },
  {
   "cell_type": "code",
   "execution_count": 14,
   "metadata": {},
   "outputs": [],
   "source": [
    "#let's look at some of the observable quantities...\n",
    "#careful this takes a while!\n",
    "nt      = 100        #  number of temperature points\n",
    "N       = 22         #  size of the lattice, N x N\n",
    "iterations = 1024       # number of iterations for convergence + calculations\n",
    "\n",
    "T       = np.linspace(0.5, 5, nt);   #temperature\n",
    "E,M,C,X = np.zeros(nt), np.zeros(nt), np.zeros(nt), np.zeros(nt)\n",
    "n1, n2  = 1.0/(iterations*N*N), 1.0/(iterations*iterations*N*N)\n",
    "\n",
    "for tt in range(len(T)):\n",
    "    E1 = 0\n",
    "    M1 = 0\n",
    "    E2 = 0\n",
    "    M2 = 0\n",
    "    init = initialstate(N)\n",
    "    iT = 1.0/T[tt]\n",
    "    iT2 = iT**2\n",
    "    \n",
    "    for i in range(iterations):     #loop to convergence first\n",
    "        grid = mcmove(init,iT,2)\n",
    "    \n",
    "    for i in range(iterations):     #start calculating the quantities when converged\n",
    "        grid = mcmove(grid,iT,2)\n",
    "        en = get_Energy(grid,2)\n",
    "        mag = get_Mag(grid)\n",
    "        \n",
    "        \n",
    "        E1 = E1 + en            #added to find the \"average\" quantities for each MC move.\n",
    "        M1 = M1 + mag\n",
    "        M2 = M2 + mag**2\n",
    "        E2 = E2 + en**2\n",
    "        \n",
    "    E[tt] = n1*E1\n",
    "    M[tt] = n1*M1\n",
    "    C[tt] = (n1*E2 - n2*E1**2)*iT2\n",
    "    X[tt] = (n1*M2 - n2*M1**2)*iT"
   ]
  },
  {
   "cell_type": "code",
   "execution_count": 20,
   "metadata": {
    "scrolled": false
   },
   "outputs": [
    {
     "data": {
      "text/plain": [
       "Text(0,0.5,'Magnetic Suspectibility')"
      ]
     },
     "execution_count": 20,
     "metadata": {},
     "output_type": "execute_result"
    }
   ],
   "source": [
    "fig,ax=plt.subplots(2,2,figsize=(15,12),squeeze = False)\n",
    "\n",
    "ax[0][0].plot(T,E/4.,'o')\n",
    "ax[0][0].grid()\n",
    "ax[0][0].set_xlabel('Temperature',fontsize = 12)\n",
    "ax[0][0].set_ylabel('Energy',fontsize = 12)\n",
    "\n",
    "ax[0][1].plot(T,abs(M),'o')\n",
    "ax[0][1].grid()\n",
    "ax[0][1].set_xlabel('Temperature', fontsize = 12)\n",
    "ax[0][1].set_ylabel('Magnetization',fontsize = 12)\n",
    "\n",
    "ax[1][0].plot(T,C,'o')\n",
    "ax[1][0].grid()\n",
    "ax[1][0].set_xlabel('Temperature',fontsize =12)\n",
    "ax[1][0].set_ylabel('Specific Heat',fontsize =12)\n",
    "\n",
    "ax[1][1].plot(T,X,'o')\n",
    "ax[1][1].grid()\n",
    "ax[1][1].set_xlabel('Temperature',fontsize = 12)\n",
    "ax[1][1].set_ylabel('Magnetic Suspectibility',fontsize =12)"
   ]
  },
  {
   "cell_type": "markdown",
   "metadata": {},
   "source": [
    "#### Osgner's Exact Solutions for critical temperature and spontenous magnetization are:\n",
    "\n",
    "\n",
    "$$\\sinh(\\frac{2J_{1}}{kT_{c}}) \\sinh(\\frac{2J_{2}}{kT_{c}}) = 1$$\n",
    "$$M = (1- [\\sinh (2\\beta J_{1}) \\sinh(2\\beta J_{2})^{-2}])^{\\frac{1}{8}}$$\n",
    "where $J_{1}$ and $J_{2}$ are the horizontal and vertical coupling interaction strength, $k$ is Boltzmann constant (we use 1). Since our condition is $J_{1} = J_{2} = J$, then the formula can be simplified as\n",
    "\n",
    "$$T_{c} = \\frac{2J}{k\\ln(1+\\sqrt{2})}$$\n",
    "$$m = (1- [\\sinh(2 \\beta J)]^{-4})^{\\frac{1}8}$$\n",
    "for $T < T_{c}$ and 0 for $T > T_{c}$."
   ]
  },
  {
   "cell_type": "markdown",
   "metadata": {},
   "source": [
    "Let's plot it aganst the simulation:"
   ]
  },
  {
   "cell_type": "code",
   "execution_count": 22,
   "metadata": {},
   "outputs": [
    {
     "data": {
      "text/plain": [
       "<matplotlib.legend.Legend at 0x7fc241b42710>"
      ]
     },
     "execution_count": 22,
     "metadata": {},
     "output_type": "execute_result"
    }
   ],
   "source": [
    "J = 1.\n",
    "crit_temp = (2*J)/(1*np.log(1+np.sqrt(2)))\n",
    "\n",
    "def exact_mag(J,temp):\n",
    "    mag = list()\n",
    "    for i in temp:\n",
    "        beta = 1./i\n",
    "        mag_val = (1-np.sinh(2*beta*J)**-4)**(1./8)\n",
    "        mag.append(mag_val)\n",
    "    return mag\n",
    "\n",
    "\n",
    "temp = np.linspace(0.5,5,nt)\n",
    "plt.plot(temp,abs(M),'o',label = 'Simulation')\n",
    "\n",
    "\n",
    "temp_exact = np.linspace(0.5,crit_temp,nt)\n",
    "mag_ex = exact_mag(J,temp_exact)\n",
    "plt.plot(temp_exact,mag_ex,color = 'red',)\n",
    "plt.plot(np.linspace(crit_temp,5,nt),np.zeros(len(np.linspace(crit_temp,5,nt))),color = 'red',label = 'Onsager\\'s')\n",
    "plt.grid()\n",
    "plt.xlabel('Temperature')\n",
    "plt.ylabel('Magnitization')\n",
    "plt.legend()"
   ]
  },
  {
   "cell_type": "markdown",
   "metadata": {},
   "source": [
    "## Introducing External Magnetic Field (scalar)"
   ]
  },
  {
   "cell_type": "code",
   "execution_count": 6,
   "metadata": {},
   "outputs": [],
   "source": [
    "def mcmove_ext(config,beta,J,ext):\n",
    "    N = len(config)\n",
    "    for i in range(N):\n",
    "        for j in range(N):\n",
    "            a = np.random.randint(0, N)\n",
    "            b = np.random.randint(0, N)\n",
    "            spin = config[a,b]\n",
    "            nb = config[(a+1)%N,b] + config[a,(b+1)%N] + config[(a-1)%N,b] + config[a,(b-1)%N]       \n",
    "            emn = J*spin*nb - ext*spin   #magnetic field is here\n",
    "            if emn < 0:\n",
    "                config[a,b] = -config[a,b]\n",
    "            else:\n",
    "                p = np.exp(-emn*beta)\n",
    "                u = np.random.rand()\n",
    "                if u < p:\n",
    "                    config[a,b] = -config[a,b]\n",
    "    return config"
   ]
  },
  {
   "cell_type": "code",
   "execution_count": 7,
   "metadata": {},
   "outputs": [
    {
     "data": {
      "text/plain": [
       "Text(0.5,1,'After 1000000000 Simulation')"
      ]
     },
     "execution_count": 7,
     "metadata": {},
     "output_type": "execute_result"
    }
   ],
   "source": [
    "temp = 3\n",
    "iterations = 1000\n",
    "\n",
    "grid_ext = initialstate(50)\n",
    "plt.figure(figsize = (7,7))\n",
    "plt.imshow(grid_ext)\n",
    "plt.title('Initital Conditions')\n",
    "\n",
    "for i in range(iterations):\n",
    "    grid_ext = mcmove_ext(grid_ext,1./temp,2,6) #config, beta, J, scalar external field.\n",
    "    \n",
    "    \n",
    "plt.figure(figsize=(7,7))\n",
    "plt.imshow(grid_ext)\n",
    "plt.title('After '+ str(iterations*iterations*iterations)+' Simulation')"
   ]
  },
  {
   "cell_type": "markdown",
   "metadata": {},
   "source": [
    "### External Magnetic field (vectorized)"
   ]
  },
  {
   "cell_type": "markdown",
   "metadata": {},
   "source": [
    "We can create magnetic field to apply it on to certain regions of the lattice to maintain its spin."
   ]
  },
  {
   "cell_type": "code",
   "execution_count": 8,
   "metadata": {},
   "outputs": [],
   "source": [
    "def mcmove_vext(config,beta,J,field):\n",
    "    N = len(config)\n",
    "    for i in range(N):\n",
    "        for j in range(N):\n",
    "            a = np.random.randint(0, N)\n",
    "            b = np.random.randint(0, N)\n",
    "            field_strength = field[a,b]\n",
    "            spin = config[a,b]\n",
    "            nb = config[(a+1)%N,b] + config[a,(b+1)%N] + config[(a-1)%N,b] + config[a,(b-1)%N]       \n",
    "            emn = J*spin*nb - field_strength*spin\n",
    "            if emn < 0:\n",
    "                config[a,b] = -config[a,b]\n",
    "            else:\n",
    "                p = np.exp(-emn*beta)\n",
    "                u = np.random.rand()\n",
    "                if u < p:\n",
    "                    config[a,b] = -config[a,b]\n",
    "    return config"
   ]
  },
  {
   "cell_type": "code",
   "execution_count": 9,
   "metadata": {},
   "outputs": [
    {
     "data": {
      "text/plain": [
       "Text(0.5,1,'After 1000000000 Simulation')"
      ]
     },
     "execution_count": 9,
     "metadata": {},
     "output_type": "execute_result"
    }
   ],
   "source": [
    "temp = 4\n",
    "grid_size = 50\n",
    "grid_vext = initialstate(grid_size)\n",
    "\n",
    "magf1 = np.ones((grid_size,grid_size))\n",
    "\n",
    "magf1[:int(grid_size/2.),:int(grid_size/2.)]= 1\n",
    "magf1[int(grid_size/2.):,:int(grid_size/2.)]= 20\n",
    "magf1[int(grid_size/2.):,int(grid_size/2.):]= 1\n",
    "magf1[:int(grid_size/2.),int(grid_size/2.):] = 20\n",
    "\n",
    "plt.title('External Magnetic Field')\n",
    "plt.imshow(magf1)\n",
    "plt.colorbar()\n",
    "\n",
    "\n",
    "plt.figure(figsize = (7,7))\n",
    "plt.imshow(grid_vext)\n",
    "plt.title('Initital Conditions')\n",
    "for i in range(iterations):\n",
    "    grid_vext = mcmove_vext(grid_vext,1./temp,2,magf1) #config, beta, J, scalar external field.\n",
    "    \n",
    "    \n",
    "plt.figure(figsize=(7,7))\n",
    "plt.imshow(grid_vext)\n",
    "plt.title('After '+ str(iterations*iterations*iterations)+ ' Simulation')"
   ]
  },
  {
   "cell_type": "markdown",
   "metadata": {},
   "source": [
    "We can get creative with our magnetic field!"
   ]
  },
  {
   "cell_type": "markdown",
   "metadata": {},
   "source": [
    "## Simple model Simulation"
   ]
  },
  {
   "cell_type": "code",
   "execution_count": 10,
   "metadata": {
    "scrolled": true
   },
   "outputs": [],
   "source": [
    "def mcmove(config, beta,J):\n",
    "    N = len(config)\n",
    "    a = np.random.randint(0, len(config))\n",
    "    b = np.random.randint(0, len(config))\n",
    "    spin = config[a,b]\n",
    "    nb = config[(a+1)%N,b] + config[a,(b+1)%N] + config[(a-1)%N,b] + config[a,(b-1)%N]            \n",
    "    emn = J*spin*nb\n",
    "    if emn < 0:\n",
    "        config[a,b] = -config[a,b]\n",
    "    else:\n",
    "        p = np.exp(-emn*beta)\n",
    "        u = np.random.rand()\n",
    "        if u < p:\n",
    "            config[a,b] = -config[a,b]\n",
    "    return config"
   ]
  },
  {
   "cell_type": "code",
   "execution_count": 12,
   "metadata": {},
   "outputs": [],
   "source": [
    "Temp = 0.1\n",
    "beta = 1./Temp\n",
    "N = 20\n",
    "\n",
    "figure = plt.figure()\n",
    "grid = initialstate(N)\n",
    "\n",
    "images = []\n",
    "\n",
    "for i in range(3000):\n",
    "    im = plt.imshow(mcmove(grid,beta,2))\n",
    "    images.append([im])\n",
    "    \n",
    "ani = animation.ArtistAnimation(figure, images, interval=500, blit=True,\n",
    "                                repeat = False)\n",
    "\n",
    "\n",
    "ani.save(\"simpleising_slow.mp4\",writer = 'ffmpeg') #saving the file!"
   ]
  },
  {
   "cell_type": "markdown",
   "metadata": {},
   "source": [
    "## Simulation of model with external magnetic field"
   ]
  },
  {
   "cell_type": "markdown",
   "metadata": {},
   "source": [
    "#####  Scalar Magnetic Field"
   ]
  },
  {
   "cell_type": "code",
   "execution_count": 26,
   "metadata": {},
   "outputs": [],
   "source": [
    "def mcmove_ext(config,beta,J,ext):\n",
    "    N = len(config)\n",
    "    a = np.random.randint(0, N)\n",
    "    b = np.random.randint(0, N)\n",
    "    spin = config[a,b]\n",
    "    nb = config[(a+1)%N,b] + config[a,(b+1)%N] + config[(a-1)%N,b] + config[a,(b-1)%N]       \n",
    "    emn = J*spin*nb - ext*spin\n",
    "    if emn < 0:\n",
    "        config[a,b] = -config[a,b]\n",
    "    else:\n",
    "        p = np.exp(-emn*beta)\n",
    "        u = np.random.rand()\n",
    "        if u < p:\n",
    "            config[a,b] = -config[a,b]\n",
    "    return config"
   ]
  },
  {
   "cell_type": "markdown",
   "metadata": {},
   "source": [
    "High temperature wants to make it a random spin states, but with \"high\" external magnetic field, it outweighs the temperature parameter and the spins follow the field. (with some hesitant from the temperature parameter)"
   ]
  },
  {
   "cell_type": "code",
   "execution_count": 27,
   "metadata": {},
   "outputs": [],
   "source": [
    "Temp = 5\n",
    "beta = 1./Temp\n",
    "\n",
    "\n",
    "N = 20\n",
    "\n",
    "figure = plt.figure()\n",
    "grid = initialstate(N)\n",
    "\n",
    "images = []\n",
    "\n",
    "for i in range(3000):\n",
    "    im = plt.imshow(mcmove_ext(grid,beta,2.0,5))\n",
    "    images.append([im])\n",
    "    \n",
    "    \n",
    "    \n",
    "ani = animation.ArtistAnimation(figure, images, interval=7, blit=True,\n",
    "                                repeat_delay=20000)\n",
    "\n",
    "\n",
    "ani.save('fast_ext_ising.mp4',writer = 'ffmpeg')"
   ]
  },
  {
   "cell_type": "markdown",
   "metadata": {},
   "source": [
    "##### Vectorized Magnetic Field"
   ]
  },
  {
   "cell_type": "code",
   "execution_count": 18,
   "metadata": {},
   "outputs": [],
   "source": [
    "def mcmove_vext(config,beta,J,field):\n",
    "    N = len(config)\n",
    "    a = np.random.randint(0, N)\n",
    "    b = np.random.randint(0, N)\n",
    "    field_strength = field[a,b]\n",
    "    spin = config[a,b]\n",
    "    nb = config[(a+1)%N,b] + config[a,(b+1)%N] + config[(a-1)%N,b] + config[a,(b-1)%N]       \n",
    "    emn = J*spin*nb - field_strength*spin\n",
    "    if emn < 0:\n",
    "        config[a,b] = -config[a,b]\n",
    "    else:\n",
    "        p = np.exp(-emn*beta)\n",
    "        u = np.random.rand()\n",
    "        if u < p:\n",
    "            config[a,b] = -config[a,b]\n",
    "    return config"
   ]
  },
  {
   "cell_type": "code",
   "execution_count": 20,
   "metadata": {},
   "outputs": [],
   "source": [
    "Temp = 3\n",
    "beta = 1./Temp\n",
    "\n",
    "\n",
    "N = 20\n",
    "\n",
    "ext_mag = np.ones((N,N))\n",
    "\n",
    "ext_mag[:int(N/2.),:int(N/2.)]= 1\n",
    "ext_mag[int(N/2.):,:int(N/2.)]= 20\n",
    "ext_mag[int(N/2.):,int(N/2.):]= 1\n",
    "ext_mag[:int(N/2.),int(N/2.):] = 20\n",
    "\n",
    "\n",
    "\n",
    "\n",
    "figure = plt.figure()\n",
    "grid = initialstate(N)\n",
    "\n",
    "images = []\n",
    "\n",
    "for i in range(3000):\n",
    "    im = plt.imshow(mcmove_vext(grid,beta,2.0,ext_mag))\n",
    "    images.append([im])\n",
    "    \n",
    "    \n",
    "    \n",
    "ani = animation.ArtistAnimation(figure, images, interval=500, blit=True,\n",
    "                                repeat_delay=20000)\n",
    "\n",
    "\n",
    "ani.save('slow_vext_ising.mp4',writer = 'ffmpeg')"
   ]
  },
  {
   "cell_type": "markdown",
   "metadata": {},
   "source": [
    "## Hexagonal Ising Model"
   ]
  },
  {
   "cell_type": "code",
   "execution_count": 3,
   "metadata": {},
   "outputs": [],
   "source": [
    "def hex_mcmove_ext(config, beta,J,ext):\n",
    "    N = len(config)\n",
    "    for i in range(len(config)):\n",
    "        for j in range(len(config)):\n",
    "            a = np.random.randint(0, len(config))\n",
    "            b = np.random.randint(0, len(config))\n",
    "            spin = config[a,b] \n",
    "            nb = config[(a+1)%N,b] + config[a,(b+1)%N] + config[(a-1)%N,b] + config[a,(b-1)%N] + config[(a+1)%N,(b+1)%N] + config[(a-1)%N,(b+1)%N] #new spins here       \n",
    "            emn = J*spin*nb - ext*spin\n",
    "            if emn < 0:\n",
    "                config[a,b] = -config[a,b]\n",
    "            else:\n",
    "                p = np.exp(-emn*beta)\n",
    "                u = np.random.rand()\n",
    "                if u < p:\n",
    "                    config[a,b] = -config[a,b]\n",
    "    return config"
   ]
  },
  {
   "cell_type": "code",
   "execution_count": 10,
   "metadata": {
    "scrolled": false
   },
   "outputs": [
    {
     "data": {
      "text/plain": [
       "Text(0.5,1,'After1000000000 Simulation; $J = -2$, T = 3')"
      ]
     },
     "execution_count": 10,
     "metadata": {},
     "output_type": "execute_result"
    }
   ],
   "source": [
    "temp = 0.05\n",
    "iterations = 1000\n",
    "N = 50\n",
    "J = -2\n",
    "hex_grid1 = initialstate(N)\n",
    "\n",
    "for it in range(iterations):\n",
    "    hex_grid1 = hex_mcmove_ext(hex_grid1,1./temp,J,3)\n",
    "    \n",
    "    \n",
    "    \n",
    "    \n",
    "fig,ax=plt.subplots(1,2,figsize=(15,12),squeeze = False)\n",
    "\n",
    "\n",
    "temp = 3\n",
    "iterations = 1000\n",
    "N = 50\n",
    "J = -2\n",
    "hex_grid2 = initialstate(N)\n",
    "\n",
    "for it in range(iterations):\n",
    "    hex_grid2 = hex_mcmove_ext(hex_grid2,1./temp,J,3)\n",
    "    \n",
    "    \n",
    "    \n",
    "\n",
    "    \n",
    "ax[0][0].imshow(hex_grid1)\n",
    "ax[0][0].set_title('After '+ str(iterations*iterations*iterations)+' Simulation; $J$ = -2, T = 0.05')\n",
    "ax[0][1].imshow(hex_grid2)\n",
    "ax[0][1].set_title('After'+str(iterations*iterations*iterations)+' Simulation; $J = -2$, T = 3')"
   ]
  },
  {
   "cell_type": "code",
   "execution_count": 14,
   "metadata": {},
   "outputs": [],
   "source": [
    "nt      = 100        #  number of temperature points\n",
    "N       = 22         #  size of the lattice, N x N\n",
    "iterations = 1024       # number of iterations for convergence + calculations\n",
    "\n",
    "T = 0.05\n",
    "ext_mag = np.linspace(0,10,nt)\n",
    "M = np.zeros(nt)\n",
    "n1 = 1.0/(iterations*N*N)\n",
    "\n",
    "for tt in range(len(ext_mag)):\n",
    "    M1 = 0\n",
    "    grid = initialstate(N)\n",
    "    \n",
    "    for i in range(iterations):     #loop to convergence first\n",
    "        grid = hex_mcmove_ext(grid,1./T,-1,ext_mag[tt])\n",
    "    \n",
    "    for i in range(iterations):     #start calculating the quantities when converged\n",
    "        grid = hex_mcmove_ext(grid,1./T,-1,ext_mag[tt])\n",
    "        mag = get_Mag(grid)\n",
    "        \n",
    "        M1 = M1 + mag\n",
    "\n",
    "    M[tt] = n1*M1"
   ]
  },
  {
   "cell_type": "code",
   "execution_count": 17,
   "metadata": {},
   "outputs": [],
   "source": [
    "plt.figure(figsize=(12,15))\n",
    "plt.plot(ext_mag,abs(M),'o')\n",
    "plt.xlabel('Magnitude of Magnetic Field',fontsize=12)\n",
    "plt.ylabel('Magnetization',fontsize = 12)\n",
    "plt.grid()\n"
   ]
  },
  {
   "cell_type": "code",
   "execution_count": 18,
   "metadata": {},
   "outputs": [
    {
     "data": {
      "text/plain": [
       "<matplotlib.image.AxesImage at 0x7f30568233d0>"
      ]
     },
     "execution_count": 18,
     "metadata": {},
     "output_type": "execute_result"
    }
   ],
   "source": [
    "T = 0.05\n",
    "extM = 3.5\n",
    "\n",
    "grid_x = initialstate(50)\n",
    "\n",
    "for i in range(iterations*2):\n",
    "    grid_x = hex_mcmove_ext(grid_x,1./T,-1,extM)\n",
    "    \n",
    "plt.figure(figsize=(12,15))\n",
    "plt.imshow(grid_x)"
   ]
  },
  {
   "cell_type": "code",
   "execution_count": 24,
   "metadata": {},
   "outputs": [],
   "source": [
    "N = 20\n",
    "\n",
    "figure = plt.figure()\n",
    "grid_s = initialstate(N)\n",
    "\n",
    "images = []\n",
    "\n",
    "for i in range(3000):\n",
    "    im = plt.imshow(hex_mcmove_ext(grid_s,1./T,-1,extM))\n",
    "    images.append([im])\n",
    "    \n",
    "    \n",
    "    \n",
    "ani = animation.ArtistAnimation(figure, images, interval=200, blit=True,\n",
    "                                repeat_delay=20000)\n",
    "\n",
    "\n",
    "ani.save('hex.mp4',writer = 'ffmpeg')"
   ]
  }
 ],
 "metadata": {
  "kernelspec": {
   "display_name": "Python 2",
   "language": "python",
   "name": "python2"
  },
  "language_info": {
   "codemirror_mode": {
    "name": "ipython",
    "version": 2
   },
   "file_extension": ".py",
   "mimetype": "text/x-python",
   "name": "python",
   "nbconvert_exporter": "python",
   "pygments_lexer": "ipython2",
   "version": "2.7.15"
  }
 },
 "nbformat": 4,
 "nbformat_minor": 2
}
